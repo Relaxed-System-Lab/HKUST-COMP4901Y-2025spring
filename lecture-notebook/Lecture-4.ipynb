{
 "cells": [
  {
   "cell_type": "code",
   "execution_count": 5,
   "metadata": {},
   "outputs": [],
   "source": [
    "import torch\n",
    "import torch.nn as nn\n",
    "\n",
    "\n",
    "batch_size = 64"
   ]
  },
  {
   "cell_type": "code",
   "execution_count": 10,
   "metadata": {},
   "outputs": [],
   "source": [
    "class NeuralNetwork(nn.Module):\n",
    "    def __init__(self):\n",
    "        super().__init__()\n",
    "        self.flatten = nn.Flatten()\n",
    "        self.fc1 = nn.Linear(28*28, 512, False)\n",
    "        self.fc2 = nn.Linear(512, 512, False)\n",
    "        self.fc3 = nn.Linear(512, 10, False)\n",
    "        self.register_buffer('fc2_input_act', torch.zeros(batch_size, 512))\n",
    "        self.register_buffer('fc2_output_act', torch.zeros(batch_size, 512))\n",
    "\n",
    "    def forward(self, x):\n",
    "        x = self.flatten(x)\n",
    "        self.fc2_input_act = nn.functional.relu(self.fc1(x))\n",
    "        self.fc2_input_act.retain_grad()\n",
    "        self.fc2_output_act = self.fc2(self.fc2_input_act)\n",
    "        self.fc2_output_act.retain_grad()\n",
    "        x = nn.functional.relu(self.fc2_output_act)        \n",
    "        logits = self.fc3(x)\n",
    "        return logits\n",
    "\n",
    "model = NeuralNetwork()\n",
    "\n",
    "loss = nn.CrossEntropyLoss()\n"
   ]
  },
  {
   "cell_type": "code",
   "execution_count": 11,
   "metadata": {},
   "outputs": [
    {
     "name": "stdout",
     "output_type": "stream",
     "text": [
      "Shape of X: torch.Size([64, 512])\n",
      "Shape of dL/dX: torch.Size([64, 512])\n",
      "Shape of W: torch.Size([512, 512])\n",
      "Shape of dL/dW: torch.Size([512, 512])\n",
      "Shape of Y: torch.Size([64, 512])\n",
      "Shape of dL/dY: torch.Size([64, 512])\n",
      "Check dL/dX = dL/dY W^T, diff1= 0.0\n",
      "Check dL/dW = X^T dL/dY, diff2= 0.0\n"
     ]
    }
   ],
   "source": [
    "x = torch.randn(batch_size, 28*28)\n",
    "y = torch.randint(0, 10, (batch_size,))\n",
    "\n",
    "loss = nn.functional.cross_entropy(model(x), y)\n",
    "\n",
    "loss.backward()\n",
    "        \n",
    "print(\"Shape of X:\", model.fc2_input_act.shape)\n",
    "print(\"Shape of dL/dX:\", model.fc2_input_act.grad.shape)\n",
    "print(\"Shape of W:\", model.fc2.weight.shape)\n",
    "print(\"Shape of dL/dW:\", model.fc2.weight.grad.shape)\n",
    "print(\"Shape of Y:\", model.fc2_output_act.shape)\n",
    "print(\"Shape of dL/dY:\",model.fc2_output_act.grad.shape)\n",
    "\n",
    "diff1 = torch.sum(torch.abs(model.fc2_input_act.grad - \n",
    "                            torch.matmul(model.fc2_output_act.grad, \n",
    "                                            model.fc2.weight)))\n",
    "print(\"Check dL/dX = dL/dY W^T, diff1=\", diff1.item())\n",
    "\n",
    "diff2 = torch.sum(torch.abs(torch.transpose(model.fc2.weight.grad,0,1) - \n",
    "                            torch.matmul(torch.transpose(model.fc2_input_act,0,1), \n",
    "                                            model.fc2_output_act.grad)))\n",
    "print(\"Check dL/dW = X^T dL/dY, diff2=\", diff2.item())\n"
   ]
  },
  {
   "cell_type": "code",
   "execution_count": 14,
   "metadata": {},
   "outputs": [
    {
     "name": "stdout",
     "output_type": "stream",
     "text": [
      "tensor([-0.4842, -0.2480,  0.7965], grad_fn=<SqueezeBackward4>)\n"
     ]
    }
   ],
   "source": [
    "class MyLinear(nn.Module):\n",
    "  def __init__(self, in_features, out_features):\n",
    "    super().__init__()\n",
    "    self.weight = nn.Parameter(torch.randn(in_features, out_features))\n",
    "\n",
    "  def forward(self, input):\n",
    "    return torch.matmul(input, self.weight)\n",
    "\n",
    "m = MyLinear(4, 3)\n",
    "sample_input = torch.randn(4)\n",
    "print(m(sample_input))\n",
    "\n"
   ]
  },
  {
   "cell_type": "code",
   "execution_count": 15,
   "metadata": {},
   "outputs": [
    {
     "name": "stdout",
     "output_type": "stream",
     "text": [
      "('weight', Parameter containing:\n",
      "tensor([[-0.1219, -0.8401, -1.2954],\n",
      "        [-0.3019, -1.9455, -0.8994],\n",
      "        [-0.4831,  0.9704,  0.7805],\n",
      "        [ 2.7101,  0.2225, -0.6512]], requires_grad=True))\n",
      "Parameter containing:\n",
      "tensor([[-0.1219, -0.8401, -1.2954],\n",
      "        [-0.3019, -1.9455, -0.8994],\n",
      "        [-0.4831,  0.9704,  0.7805],\n",
      "        [ 2.7101,  0.2225, -0.6512]], requires_grad=True)\n"
     ]
    }
   ],
   "source": [
    "for parameter in m.named_parameters():\n",
    "  print(parameter)\n",
    "\n",
    "\n",
    "for parameter in m.parameters():\n",
    "  print(parameter)\n"
   ]
  },
  {
   "cell_type": "code",
   "execution_count": 16,
   "metadata": {},
   "outputs": [
    {
     "name": "stdout",
     "output_type": "stream",
     "text": [
      "tensor([0.2522], grad_fn=<SqueezeBackward4>)\n"
     ]
    }
   ],
   "source": [
    "net = nn.Sequential(\n",
    "  MyLinear(4, 3),\n",
    "  nn.ReLU(),\n",
    "  MyLinear(3, 1)\n",
    ")\n",
    "\n",
    "sample_input = torch.randn(4)\n",
    "print(net(sample_input))\n"
   ]
  },
  {
   "cell_type": "code",
   "execution_count": 18,
   "metadata": {},
   "outputs": [
    {
     "name": "stdout",
     "output_type": "stream",
     "text": [
      "tensor([-0.7705], grad_fn=<SqueezeBackward4>)\n"
     ]
    }
   ],
   "source": [
    "class Net2(nn.Module):\n",
    "  def __init__(self):\n",
    "    super().__init__()\n",
    "    self.layer0 = MyLinear(4, 3)\n",
    "    self.layer1 = MyLinear(3, 1)\n",
    "  \n",
    "  def forward(self, x):\n",
    "    x = self.layer0(x)\n",
    "    x = nn.functional.relu(x)\n",
    "    x = self.layer1(x)\n",
    "    return x\n",
    "\n",
    "net2 = Net2()\n",
    "sample_input = torch.randn(4)\n",
    "print(net2(sample_input))\n"
   ]
  },
  {
   "cell_type": "code",
   "execution_count": 19,
   "metadata": {},
   "outputs": [
    {
     "name": "stdout",
     "output_type": "stream",
     "text": [
      "Check net.children\n",
      "MyLinear()\n",
      "ReLU()\n",
      "MyLinear()\n",
      "Check net.modules\n",
      "Sequential(\n",
      "  (0): MyLinear()\n",
      "  (1): ReLU()\n",
      "  (2): MyLinear()\n",
      ")\n",
      "MyLinear()\n",
      "ReLU()\n",
      "MyLinear()\n"
     ]
    }
   ],
   "source": [
    "print(\"Check net.children\")\n",
    "for child in net.children():\n",
    "  print(child)\n",
    "\n",
    "\n",
    "print(\"Check net.modules\")\n",
    "for child in net.modules():\n",
    "  print(child)\n"
   ]
  },
  {
   "cell_type": "code",
   "execution_count": 20,
   "metadata": {},
   "outputs": [
    {
     "name": "stdout",
     "output_type": "stream",
     "text": [
      "<--Check net2.children()-->\n",
      "MyLinear()\n",
      "MyLinear()\n",
      "<--Check net.modules()-->\n",
      "Net2(\n",
      "  (layer0): MyLinear()\n",
      "  (layer1): MyLinear()\n",
      ")\n",
      "MyLinear()\n",
      "MyLinear()\n"
     ]
    }
   ],
   "source": [
    "print(\"<--Check net2.children()-->\")\n",
    "for child in net2.children():\n",
    "  print(child)\n",
    "\n",
    "\n",
    "print(\"<--Check net.modules()-->\")\n",
    "for child in net2.modules():\n",
    "  print(child)\n"
   ]
  },
  {
   "cell_type": "code",
   "execution_count": 21,
   "metadata": {},
   "outputs": [
    {
     "name": "stdout",
     "output_type": "stream",
     "text": [
      "<--Check net2.named_children()-->\n",
      "('layer0', MyLinear())\n",
      "('layer1', MyLinear())\n",
      "<--Check net.named_modules()-->\n",
      "('', Net2(\n",
      "  (layer0): MyLinear()\n",
      "  (layer1): MyLinear()\n",
      "))\n",
      "('layer0', MyLinear())\n",
      "('layer1', MyLinear())\n"
     ]
    }
   ],
   "source": [
    "print(\"<--Check net2.named_children()-->\")\n",
    "for child in net2.named_children():\n",
    "  print(child)\n",
    "\n",
    "\n",
    "print(\"<--Check net.named_modules()-->\")\n",
    "for child in net2.named_modules():\n",
    "  print(child)\n"
   ]
  },
  {
   "cell_type": "code",
   "execution_count": 22,
   "metadata": {},
   "outputs": [
    {
     "name": "stdout",
     "output_type": "stream",
     "text": [
      "x: tensor([-1.3159, -0.2344, -0.7772,  1.2623], requires_grad=True)\n",
      "w0: Parameter containing:\n",
      "tensor([[ 1.1255,  0.4839, -1.0264],\n",
      "        [-2.0767, -1.1128, -1.0877],\n",
      "        [ 0.6199,  0.2211,  0.7915],\n",
      "        [ 0.8546,  1.6406,  1.4667]], requires_grad=True)\n",
      "w1: Parameter containing:\n",
      "tensor([[ 0.7632],\n",
      "        [ 0.1008],\n",
      "        [-0.9345]], requires_grad=True)\n",
      "z: tensor([-2.5022], grad_fn=<SqueezeBackward4>)\n",
      "dz: tensor([1.])\n",
      "dw1: tensor([[0.0000],\n",
      "        [1.5231],\n",
      "        [2.8419]])\n",
      "dw2: tensor([[ 0.0000, -0.1327,  1.2297],\n",
      "        [ 0.0000, -0.0236,  0.2191],\n",
      "        [ 0.0000, -0.0784,  0.7263],\n",
      "        [ 0.0000,  0.1273, -1.1796]])\n",
      "dx: tensor([ 1.0080,  0.9043, -0.7173, -1.2052])\n"
     ]
    }
   ],
   "source": [
    "x = torch.randn(4)\n",
    "x.requires_grad_(True)\n",
    "x.retain_grad()\n",
    "z = net2(x)\n",
    "z.retain_grad()\n",
    "\n",
    "print(\"x:\", x)\n",
    "print(\"w0:\", net2.layer0.weight)\n",
    "print(\"w1:\",net2.layer1.weight)\n",
    "print(\"z:\",z)\n",
    "\n",
    "z.backward()\n",
    "\n",
    "print(\"dz:\", z.grad)\n",
    "print(\"dw1:\", net2.layer1.weight.grad)\n",
    "print(\"dw2:\", net2.layer0.weight.grad)\n",
    "print(\"dx:\", x.grad)\n"
   ]
  },
  {
   "cell_type": "code",
   "execution_count": 23,
   "metadata": {},
   "outputs": [
    {
     "name": "stdout",
     "output_type": "stream",
     "text": [
      "x: tensor([ 0.5764, -0.9726, -1.3224, -0.5898], requires_grad=True)\n",
      "w0: Parameter containing:\n",
      "tensor([[ 1.1255,  0.4839, -1.0264],\n",
      "        [-2.0767, -1.1128, -1.0877],\n",
      "        [ 0.6199,  0.2211,  0.7915],\n",
      "        [ 0.8546,  1.6406,  1.4667]], requires_grad=True)\n",
      "w1: Parameter containing:\n",
      "tensor([[ 0.7632],\n",
      "        [ 0.1008],\n",
      "        [-0.9345]])\n",
      "z: tensor([1.0365], grad_fn=<SqueezeBackward4>)\n",
      "dz: tensor([1.])\n",
      "dw1: tensor([[0.0000],\n",
      "        [1.5231],\n",
      "        [2.8419]])\n",
      "dw2: tensor([[ 0.4399, -0.0746,  1.2297],\n",
      "        [-0.7422, -0.1217,  0.2191],\n",
      "        [-1.0092, -0.2117,  0.7263],\n",
      "        [-0.4501,  0.0678, -1.1796]])\n",
      "dx: tensor([ 0.9078, -1.6971,  0.4954,  0.8176])\n"
     ]
    }
   ],
   "source": [
    "net2.layer1.requires_grad_(False)\n",
    "\n",
    "x = torch.randn(4)\n",
    "x.requires_grad_(True)\n",
    "x.retain_grad()\n",
    "z = net2(x)\n",
    "z.retain_grad()\n",
    "\n",
    "print(\"x:\", x)\n",
    "print(\"w0:\", net2.layer0.weight)\n",
    "print(\"w1:\",net2.layer1.weight)\n",
    "print(\"z:\",z)\n",
    "\n",
    "z.backward()\n",
    "\n",
    "print(\"dz:\", z.grad)\n",
    "print(\"dw1:\", net2.layer1.weight.grad)\n",
    "print(\"dw2:\", net2.layer0.weight.grad)\n",
    "print(\"dx:\", x.grad)\n"
   ]
  },
  {
   "cell_type": "code",
   "execution_count": 28,
   "metadata": {},
   "outputs": [],
   "source": [
    "dim1 = 4096\n",
    "dim2 = 8192\n",
    "\n",
    "class MyLinear(nn.Module):\n",
    "  def __init__(self, in_features, out_features):\n",
    "    super().__init__()\n",
    "    self.weight = nn.Parameter(torch.randn(in_features, out_features))\n",
    "\n",
    "  def forward(self, input):\n",
    "    return torch.matmul(input, self.weight)\n",
    "\n",
    "\n",
    "class Net3(nn.Module):\n",
    "  def __init__(self):\n",
    "    super().__init__()\n",
    "    self.layer0 = MyLinear(dim1, dim2)\n",
    "    self.layer1 = MyLinear(dim2, dim2)\n",
    "    self.layer2 = MyLinear(dim2, dim2)\n",
    "    self.layer3 = MyLinear(dim2, 1)\n",
    "  \n",
    "  def forward(self, x):\n",
    "    x = self.layer0(x)\n",
    "    x = nn.functional.relu(x)\n",
    "    x = self.layer1(x)\n",
    "    x = nn.functional.relu(x)\n",
    "    x = self.layer2(x)\n",
    "    x = nn.functional.relu(x)\n",
    "    x = self.layer3(x)\n",
    "    return x\n",
    "\n",
    "net3 = Net3()\n",
    "x = torch.randn(256,dim1)\n"
   ]
  },
  {
   "cell_type": "code",
   "execution_count": 31,
   "metadata": {},
   "outputs": [
    {
     "name": "stdout",
     "output_type": "stream",
     "text": [
      "Forward computation takes: 0.057290077209472656\n"
     ]
    }
   ],
   "source": [
    "import time\n",
    "\n",
    "start_time = time.time()\n",
    "z = net3(x)\n",
    "end_time = time.time()\n",
    "print(\"Forward computation takes:\", end_time-start_time)\n"
   ]
  },
  {
   "cell_type": "code",
   "execution_count": 35,
   "metadata": {},
   "outputs": [
    {
     "name": "stdout",
     "output_type": "stream",
     "text": [
      "Forward computation takes:  0.05535697937011719\n"
     ]
    }
   ],
   "source": [
    "start_time = time.time()\n",
    "with torch.no_grad():\n",
    "    z = net3(x)\n",
    "end_time = time.time()\n",
    "print(\"Forward computation takes: \", end_time-start_time)\n"
   ]
  },
  {
   "cell_type": "code",
   "execution_count": 36,
   "metadata": {},
   "outputs": [
    {
     "name": "stdout",
     "output_type": "stream",
     "text": [
      "Forward computation takes:  0.05443930625915527\n"
     ]
    }
   ],
   "source": [
    "start_time = time.time()\n",
    "with torch.inference_mode():\n",
    "  z = net3(x)\n",
    "end_time = time.time()\n",
    "print(\"Forward computation takes: \", end_time-start_time)\n"
   ]
  }
 ],
 "metadata": {
  "kernelspec": {
   "display_name": "base",
   "language": "python",
   "name": "python3"
  },
  "language_info": {
   "codemirror_mode": {
    "name": "ipython",
    "version": 3
   },
   "file_extension": ".py",
   "mimetype": "text/x-python",
   "name": "python",
   "nbconvert_exporter": "python",
   "pygments_lexer": "ipython3",
   "version": "3.12.7"
  }
 },
 "nbformat": 4,
 "nbformat_minor": 2
}
